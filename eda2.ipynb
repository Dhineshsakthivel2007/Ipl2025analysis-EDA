{
 "cells": [
  {
   "cell_type": "code",
   "execution_count": 37,
   "id": "63361837",
   "metadata": {},
   "outputs": [],
   "source": [
    "import pandas as pd\n",
    "import numpy as np\n",
    "import matplotlib.pyplot as plt\n",
    "import seaborn as sns\n",
    "from sklearn.preprocessing import LabelEncoder\n",
    "from sklearn.preprocessing import PowerTransformer"
   ]
  },
  {
   "cell_type": "code",
   "execution_count": 2,
   "id": "33e63a1e",
   "metadata": {},
   "outputs": [],
   "source": [
    "df=pd.read_csv(r'D:\\eda2\\matches.csv')"
   ]
  },
  {
   "cell_type": "code",
   "execution_count": 3,
   "id": "e322b3b9",
   "metadata": {},
   "outputs": [
    {
     "data": {
      "text/html": [
       "<div>\n",
       "<style scoped>\n",
       "    .dataframe tbody tr th:only-of-type {\n",
       "        vertical-align: middle;\n",
       "    }\n",
       "\n",
       "    .dataframe tbody tr th {\n",
       "        vertical-align: top;\n",
       "    }\n",
       "\n",
       "    .dataframe thead th {\n",
       "        text-align: right;\n",
       "    }\n",
       "</style>\n",
       "<table border=\"1\" class=\"dataframe\">\n",
       "  <thead>\n",
       "    <tr style=\"text-align: right;\">\n",
       "      <th></th>\n",
       "      <th>match_id</th>\n",
       "      <th>date</th>\n",
       "      <th>venue</th>\n",
       "      <th>team1</th>\n",
       "      <th>team2</th>\n",
       "      <th>stage</th>\n",
       "      <th>toss_winner</th>\n",
       "      <th>toss_decision</th>\n",
       "      <th>first_ings_score</th>\n",
       "      <th>first_ings_wkts</th>\n",
       "      <th>...</th>\n",
       "      <th>match_result</th>\n",
       "      <th>match_winner</th>\n",
       "      <th>wb_runs</th>\n",
       "      <th>wb_wickets</th>\n",
       "      <th>balls_left</th>\n",
       "      <th>player_of_the_match</th>\n",
       "      <th>top_scorer</th>\n",
       "      <th>highscore</th>\n",
       "      <th>best_bowling</th>\n",
       "      <th>best_bowling_figure</th>\n",
       "    </tr>\n",
       "  </thead>\n",
       "  <tbody>\n",
       "    <tr>\n",
       "      <th>0</th>\n",
       "      <td>1</td>\n",
       "      <td>March 22,2025</td>\n",
       "      <td>Eden Gardens, Kolkata</td>\n",
       "      <td>KKR</td>\n",
       "      <td>RCB</td>\n",
       "      <td>League</td>\n",
       "      <td>RCB</td>\n",
       "      <td>Bowl</td>\n",
       "      <td>174.0</td>\n",
       "      <td>8.0</td>\n",
       "      <td>...</td>\n",
       "      <td>completed</td>\n",
       "      <td>RCB</td>\n",
       "      <td>NaN</td>\n",
       "      <td>7</td>\n",
       "      <td>22.0</td>\n",
       "      <td>Krunal Pandya</td>\n",
       "      <td>Virat Kohli</td>\n",
       "      <td>59.0</td>\n",
       "      <td>Krunal Pandya</td>\n",
       "      <td>3--29</td>\n",
       "    </tr>\n",
       "    <tr>\n",
       "      <th>1</th>\n",
       "      <td>2</td>\n",
       "      <td>March 23,2025</td>\n",
       "      <td>Rajiv Gandhi International Stadium, Hyderabad</td>\n",
       "      <td>SRH</td>\n",
       "      <td>RR</td>\n",
       "      <td>League</td>\n",
       "      <td>RR</td>\n",
       "      <td>Bowl</td>\n",
       "      <td>286.0</td>\n",
       "      <td>6.0</td>\n",
       "      <td>...</td>\n",
       "      <td>completed</td>\n",
       "      <td>SRH</td>\n",
       "      <td>44</td>\n",
       "      <td>NaN</td>\n",
       "      <td>0.0</td>\n",
       "      <td>Ishan Kishan</td>\n",
       "      <td>Ishan Kishan</td>\n",
       "      <td>106.0</td>\n",
       "      <td>Tushar Deshpande</td>\n",
       "      <td>3--44</td>\n",
       "    </tr>\n",
       "    <tr>\n",
       "      <th>2</th>\n",
       "      <td>3</td>\n",
       "      <td>March 23,2025</td>\n",
       "      <td>MA Chidambaram Stadium, Chennai</td>\n",
       "      <td>CSK</td>\n",
       "      <td>MI</td>\n",
       "      <td>League</td>\n",
       "      <td>CSK</td>\n",
       "      <td>Bowl</td>\n",
       "      <td>155.0</td>\n",
       "      <td>9.0</td>\n",
       "      <td>...</td>\n",
       "      <td>completed</td>\n",
       "      <td>CSK</td>\n",
       "      <td>NaN</td>\n",
       "      <td>4</td>\n",
       "      <td>5.0</td>\n",
       "      <td>Noor Ahmad</td>\n",
       "      <td>Rachin Ravindra</td>\n",
       "      <td>65.0</td>\n",
       "      <td>Noor Ahmad</td>\n",
       "      <td>4--18</td>\n",
       "    </tr>\n",
       "    <tr>\n",
       "      <th>3</th>\n",
       "      <td>4</td>\n",
       "      <td>March 24,2025</td>\n",
       "      <td>ACA-VDCA Cricket Stadium, Vishakhapatnam</td>\n",
       "      <td>DC</td>\n",
       "      <td>LSG</td>\n",
       "      <td>League</td>\n",
       "      <td>DC</td>\n",
       "      <td>Bowl</td>\n",
       "      <td>209.0</td>\n",
       "      <td>8.0</td>\n",
       "      <td>...</td>\n",
       "      <td>completed</td>\n",
       "      <td>DC</td>\n",
       "      <td>NaN</td>\n",
       "      <td>1</td>\n",
       "      <td>3.0</td>\n",
       "      <td>Ashutosh Sharma</td>\n",
       "      <td>Nicholas Pooran</td>\n",
       "      <td>75.0</td>\n",
       "      <td>Mitchell Starc</td>\n",
       "      <td>3--42</td>\n",
       "    </tr>\n",
       "    <tr>\n",
       "      <th>4</th>\n",
       "      <td>5</td>\n",
       "      <td>March 25,2025</td>\n",
       "      <td>Narendra Modi Stadium, Ahmedabad</td>\n",
       "      <td>GT</td>\n",
       "      <td>PBKS</td>\n",
       "      <td>League</td>\n",
       "      <td>GT</td>\n",
       "      <td>Bowl</td>\n",
       "      <td>243.0</td>\n",
       "      <td>5.0</td>\n",
       "      <td>...</td>\n",
       "      <td>completed</td>\n",
       "      <td>PBKS</td>\n",
       "      <td>11</td>\n",
       "      <td>NaN</td>\n",
       "      <td>0.0</td>\n",
       "      <td>Shreyas Iyer</td>\n",
       "      <td>Shreyas Iyer</td>\n",
       "      <td>97.0</td>\n",
       "      <td>Sai Kishore</td>\n",
       "      <td>3--30</td>\n",
       "    </tr>\n",
       "    <tr>\n",
       "      <th>...</th>\n",
       "      <td>...</td>\n",
       "      <td>...</td>\n",
       "      <td>...</td>\n",
       "      <td>...</td>\n",
       "      <td>...</td>\n",
       "      <td>...</td>\n",
       "      <td>...</td>\n",
       "      <td>...</td>\n",
       "      <td>...</td>\n",
       "      <td>...</td>\n",
       "      <td>...</td>\n",
       "      <td>...</td>\n",
       "      <td>...</td>\n",
       "      <td>...</td>\n",
       "      <td>...</td>\n",
       "      <td>...</td>\n",
       "      <td>...</td>\n",
       "      <td>...</td>\n",
       "      <td>...</td>\n",
       "      <td>...</td>\n",
       "      <td>...</td>\n",
       "    </tr>\n",
       "    <tr>\n",
       "      <th>69</th>\n",
       "      <td>70</td>\n",
       "      <td>May 27,2025</td>\n",
       "      <td>Ekana Cricket Stadium, Lucknow</td>\n",
       "      <td>LSG</td>\n",
       "      <td>RCB</td>\n",
       "      <td>League</td>\n",
       "      <td>RCB</td>\n",
       "      <td>Bowl</td>\n",
       "      <td>227.0</td>\n",
       "      <td>3.0</td>\n",
       "      <td>...</td>\n",
       "      <td>completed</td>\n",
       "      <td>RCB</td>\n",
       "      <td>NaN</td>\n",
       "      <td>6</td>\n",
       "      <td>8.0</td>\n",
       "      <td>Jitesh Sharma</td>\n",
       "      <td>Rishabh Pant</td>\n",
       "      <td>118.0</td>\n",
       "      <td>Will O'Rourke</td>\n",
       "      <td>2--74</td>\n",
       "    </tr>\n",
       "    <tr>\n",
       "      <th>70</th>\n",
       "      <td>71</td>\n",
       "      <td>May 29,2025</td>\n",
       "      <td>New PCA Cricket Stadium, Mullanpur</td>\n",
       "      <td>PBKS</td>\n",
       "      <td>RCB</td>\n",
       "      <td>Playoffs</td>\n",
       "      <td>RCB</td>\n",
       "      <td>Bowl</td>\n",
       "      <td>101.0</td>\n",
       "      <td>10.0</td>\n",
       "      <td>...</td>\n",
       "      <td>completed</td>\n",
       "      <td>RCB</td>\n",
       "      <td>NaN</td>\n",
       "      <td>8</td>\n",
       "      <td>60.0</td>\n",
       "      <td>Suyash Sharma</td>\n",
       "      <td>Phil Salt</td>\n",
       "      <td>56.0</td>\n",
       "      <td>Suyash Sharma</td>\n",
       "      <td>3--17</td>\n",
       "    </tr>\n",
       "    <tr>\n",
       "      <th>71</th>\n",
       "      <td>72</td>\n",
       "      <td>May 30,2025</td>\n",
       "      <td>New PCA Cricket Stadium, Mullanpur</td>\n",
       "      <td>GT</td>\n",
       "      <td>MI</td>\n",
       "      <td>Playoffs</td>\n",
       "      <td>MI</td>\n",
       "      <td>Bat</td>\n",
       "      <td>228.0</td>\n",
       "      <td>5.0</td>\n",
       "      <td>...</td>\n",
       "      <td>completed</td>\n",
       "      <td>MI</td>\n",
       "      <td>20</td>\n",
       "      <td>NaN</td>\n",
       "      <td>0.0</td>\n",
       "      <td>Rohit Sharma</td>\n",
       "      <td>Rohit Sharma</td>\n",
       "      <td>81.0</td>\n",
       "      <td>Sai Kishore</td>\n",
       "      <td>2--42</td>\n",
       "    </tr>\n",
       "    <tr>\n",
       "      <th>72</th>\n",
       "      <td>73</td>\n",
       "      <td>June 1,2025</td>\n",
       "      <td>Narendra Modi Stadium, Ahmedabad</td>\n",
       "      <td>PBKS</td>\n",
       "      <td>MI</td>\n",
       "      <td>Playoffs</td>\n",
       "      <td>PBKS</td>\n",
       "      <td>Bowl</td>\n",
       "      <td>203.0</td>\n",
       "      <td>6.0</td>\n",
       "      <td>...</td>\n",
       "      <td>completed</td>\n",
       "      <td>PBKS</td>\n",
       "      <td>NaN</td>\n",
       "      <td>5</td>\n",
       "      <td>6.0</td>\n",
       "      <td>Shreyas Iyer</td>\n",
       "      <td>Shreyas Iyer</td>\n",
       "      <td>87.0</td>\n",
       "      <td>Azmatullah Omarzai</td>\n",
       "      <td>2--43</td>\n",
       "    </tr>\n",
       "    <tr>\n",
       "      <th>73</th>\n",
       "      <td>74</td>\n",
       "      <td>June 3,2025</td>\n",
       "      <td>Narendra Modi Stadium, Ahmedabad</td>\n",
       "      <td>RCB</td>\n",
       "      <td>PBKS</td>\n",
       "      <td>Final</td>\n",
       "      <td>PBKS</td>\n",
       "      <td>Bowl</td>\n",
       "      <td>190.0</td>\n",
       "      <td>9.0</td>\n",
       "      <td>...</td>\n",
       "      <td>completed</td>\n",
       "      <td>RCB</td>\n",
       "      <td>6</td>\n",
       "      <td>NaN</td>\n",
       "      <td>0.0</td>\n",
       "      <td>Krunal Pandya</td>\n",
       "      <td>Shashank Singh</td>\n",
       "      <td>61.0</td>\n",
       "      <td>Arshdeep Singh</td>\n",
       "      <td>3--40</td>\n",
       "    </tr>\n",
       "  </tbody>\n",
       "</table>\n",
       "<p>74 rows × 22 columns</p>\n",
       "</div>"
      ],
      "text/plain": [
       "    match_id           date                                          venue  \\\n",
       "0          1  March 22,2025                          Eden Gardens, Kolkata   \n",
       "1          2  March 23,2025  Rajiv Gandhi International Stadium, Hyderabad   \n",
       "2          3  March 23,2025                MA Chidambaram Stadium, Chennai   \n",
       "3          4  March 24,2025       ACA-VDCA Cricket Stadium, Vishakhapatnam   \n",
       "4          5  March 25,2025               Narendra Modi Stadium, Ahmedabad   \n",
       "..       ...            ...                                            ...   \n",
       "69        70    May 27,2025                 Ekana Cricket Stadium, Lucknow   \n",
       "70        71    May 29,2025             New PCA Cricket Stadium, Mullanpur   \n",
       "71        72    May 30,2025             New PCA Cricket Stadium, Mullanpur   \n",
       "72        73    June 1,2025               Narendra Modi Stadium, Ahmedabad   \n",
       "73        74    June 3,2025               Narendra Modi Stadium, Ahmedabad   \n",
       "\n",
       "   team1 team2     stage toss_winner toss_decision  first_ings_score  \\\n",
       "0    KKR   RCB    League         RCB          Bowl             174.0   \n",
       "1    SRH    RR    League          RR          Bowl             286.0   \n",
       "2    CSK    MI    League         CSK          Bowl             155.0   \n",
       "3     DC   LSG    League          DC          Bowl             209.0   \n",
       "4     GT  PBKS    League          GT          Bowl             243.0   \n",
       "..   ...   ...       ...         ...           ...               ...   \n",
       "69   LSG   RCB    League         RCB          Bowl             227.0   \n",
       "70  PBKS   RCB  Playoffs         RCB          Bowl             101.0   \n",
       "71    GT    MI  Playoffs          MI           Bat             228.0   \n",
       "72  PBKS    MI  Playoffs        PBKS          Bowl             203.0   \n",
       "73   RCB  PBKS     Final        PBKS          Bowl             190.0   \n",
       "\n",
       "    first_ings_wkts  ...  match_result  match_winner wb_runs wb_wickets  \\\n",
       "0               8.0  ...     completed           RCB     NaN          7   \n",
       "1               6.0  ...     completed           SRH      44        NaN   \n",
       "2               9.0  ...     completed           CSK     NaN          4   \n",
       "3               8.0  ...     completed            DC     NaN          1   \n",
       "4               5.0  ...     completed          PBKS      11        NaN   \n",
       "..              ...  ...           ...           ...     ...        ...   \n",
       "69              3.0  ...     completed           RCB     NaN          6   \n",
       "70             10.0  ...     completed           RCB     NaN          8   \n",
       "71              5.0  ...     completed            MI      20        NaN   \n",
       "72              6.0  ...     completed          PBKS     NaN          5   \n",
       "73              9.0  ...     completed           RCB       6        NaN   \n",
       "\n",
       "   balls_left player_of_the_match       top_scorer highscore  \\\n",
       "0        22.0       Krunal Pandya      Virat Kohli      59.0   \n",
       "1         0.0        Ishan Kishan     Ishan Kishan     106.0   \n",
       "2         5.0          Noor Ahmad  Rachin Ravindra      65.0   \n",
       "3         3.0     Ashutosh Sharma  Nicholas Pooran      75.0   \n",
       "4         0.0        Shreyas Iyer     Shreyas Iyer      97.0   \n",
       "..        ...                 ...              ...       ...   \n",
       "69        8.0       Jitesh Sharma     Rishabh Pant     118.0   \n",
       "70       60.0       Suyash Sharma        Phil Salt      56.0   \n",
       "71        0.0        Rohit Sharma     Rohit Sharma      81.0   \n",
       "72        6.0        Shreyas Iyer     Shreyas Iyer      87.0   \n",
       "73        0.0       Krunal Pandya   Shashank Singh      61.0   \n",
       "\n",
       "          best_bowling  best_bowling_figure  \n",
       "0        Krunal Pandya                3--29  \n",
       "1     Tushar Deshpande                3--44  \n",
       "2           Noor Ahmad                4--18  \n",
       "3       Mitchell Starc                3--42  \n",
       "4          Sai Kishore                3--30  \n",
       "..                 ...                  ...  \n",
       "69       Will O'Rourke                2--74  \n",
       "70       Suyash Sharma                3--17  \n",
       "71         Sai Kishore                2--42  \n",
       "72  Azmatullah Omarzai                2--43  \n",
       "73      Arshdeep Singh                3--40  \n",
       "\n",
       "[74 rows x 22 columns]"
      ]
     },
     "execution_count": 3,
     "metadata": {},
     "output_type": "execute_result"
    }
   ],
   "source": [
    "df"
   ]
  },
  {
   "cell_type": "code",
   "execution_count": 4,
   "id": "7853c8f5",
   "metadata": {},
   "outputs": [
    {
     "name": "stdout",
     "output_type": "stream",
     "text": [
      "(74, 22)\n",
      "Index(['match_id', 'date', 'venue', 'team1', 'team2', 'stage', 'toss_winner',\n",
      "       'toss_decision', 'first_ings_score', 'first_ings_wkts',\n",
      "       'second_ings_score', 'second_ings_wkts', 'match_result', 'match_winner',\n",
      "       'wb_runs', 'wb_wickets', 'balls_left', 'player_of_the_match',\n",
      "       'top_scorer', 'highscore', 'best_bowling', 'best_bowling_figure'],\n",
      "      dtype='object')\n"
     ]
    }
   ],
   "source": [
    "print(df.shape)\n",
    "print(df.columns)"
   ]
  },
  {
   "cell_type": "code",
   "execution_count": 5,
   "id": "9b33f503",
   "metadata": {},
   "outputs": [],
   "source": [
    "df.drop('wb_wickets',axis=1,inplace=True)\n",
    "df.drop('wb_runs',axis=1,inplace=True)"
   ]
  },
  {
   "cell_type": "code",
   "execution_count": 6,
   "id": "aab629d5",
   "metadata": {},
   "outputs": [
    {
     "data": {
      "text/plain": [
       "match_id               0\n",
       "date                   0\n",
       "venue                  0\n",
       "team1                  0\n",
       "team2                  0\n",
       "stage                  0\n",
       "toss_winner            1\n",
       "toss_decision          0\n",
       "first_ings_score       1\n",
       "first_ings_wkts        1\n",
       "second_ings_score      2\n",
       "second_ings_wkts       2\n",
       "match_result           0\n",
       "match_winner           3\n",
       "balls_left             2\n",
       "player_of_the_match    3\n",
       "top_scorer             3\n",
       "highscore              3\n",
       "best_bowling           3\n",
       "best_bowling_figure    3\n",
       "dtype: int64"
      ]
     },
     "execution_count": 6,
     "metadata": {},
     "output_type": "execute_result"
    }
   ],
   "source": [
    "df.isnull().sum()"
   ]
  },
  {
   "cell_type": "code",
   "execution_count": 7,
   "id": "197c768a",
   "metadata": {},
   "outputs": [
    {
     "name": "stdout",
     "output_type": "stream",
     "text": [
      "<class 'pandas.core.frame.DataFrame'>\n",
      "RangeIndex: 74 entries, 0 to 73\n",
      "Data columns (total 20 columns):\n",
      " #   Column               Non-Null Count  Dtype  \n",
      "---  ------               --------------  -----  \n",
      " 0   match_id             74 non-null     int64  \n",
      " 1   date                 74 non-null     object \n",
      " 2   venue                74 non-null     object \n",
      " 3   team1                74 non-null     object \n",
      " 4   team2                74 non-null     object \n",
      " 5   stage                74 non-null     object \n",
      " 6   toss_winner          73 non-null     object \n",
      " 7   toss_decision        74 non-null     object \n",
      " 8   first_ings_score     73 non-null     float64\n",
      " 9   first_ings_wkts      73 non-null     float64\n",
      " 10  second_ings_score    72 non-null     float64\n",
      " 11  second_ings_wkts     72 non-null     float64\n",
      " 12  match_result         74 non-null     object \n",
      " 13  match_winner         71 non-null     object \n",
      " 14  balls_left           72 non-null     float64\n",
      " 15  player_of_the_match  71 non-null     object \n",
      " 16  top_scorer           71 non-null     object \n",
      " 17  highscore            71 non-null     float64\n",
      " 18  best_bowling         71 non-null     object \n",
      " 19  best_bowling_figure  71 non-null     object \n",
      "dtypes: float64(6), int64(1), object(13)\n",
      "memory usage: 11.7+ KB\n"
     ]
    }
   ],
   "source": [
    "df.info()"
   ]
  },
  {
   "cell_type": "code",
   "execution_count": 8,
   "id": "80d86566",
   "metadata": {},
   "outputs": [
    {
     "data": {
      "text/html": [
       "<div>\n",
       "<style scoped>\n",
       "    .dataframe tbody tr th:only-of-type {\n",
       "        vertical-align: middle;\n",
       "    }\n",
       "\n",
       "    .dataframe tbody tr th {\n",
       "        vertical-align: top;\n",
       "    }\n",
       "\n",
       "    .dataframe thead th {\n",
       "        text-align: right;\n",
       "    }\n",
       "</style>\n",
       "<table border=\"1\" class=\"dataframe\">\n",
       "  <thead>\n",
       "    <tr style=\"text-align: right;\">\n",
       "      <th></th>\n",
       "      <th>match_id</th>\n",
       "      <th>first_ings_score</th>\n",
       "      <th>first_ings_wkts</th>\n",
       "      <th>second_ings_score</th>\n",
       "      <th>second_ings_wkts</th>\n",
       "      <th>balls_left</th>\n",
       "      <th>highscore</th>\n",
       "    </tr>\n",
       "  </thead>\n",
       "  <tbody>\n",
       "    <tr>\n",
       "      <th>count</th>\n",
       "      <td>74.000000</td>\n",
       "      <td>73.000000</td>\n",
       "      <td>73.000000</td>\n",
       "      <td>72.000000</td>\n",
       "      <td>72.000000</td>\n",
       "      <td>72.000000</td>\n",
       "      <td>71.000000</td>\n",
       "    </tr>\n",
       "    <tr>\n",
       "      <th>mean</th>\n",
       "      <td>37.500000</td>\n",
       "      <td>189.753425</td>\n",
       "      <td>6.452055</td>\n",
       "      <td>174.013889</td>\n",
       "      <td>5.513889</td>\n",
       "      <td>10.819444</td>\n",
       "      <td>74.549296</td>\n",
       "    </tr>\n",
       "    <tr>\n",
       "      <th>std</th>\n",
       "      <td>21.505813</td>\n",
       "      <td>37.489547</td>\n",
       "      <td>2.108456</td>\n",
       "      <td>38.805217</td>\n",
       "      <td>2.882649</td>\n",
       "      <td>17.674942</td>\n",
       "      <td>20.088226</td>\n",
       "    </tr>\n",
       "    <tr>\n",
       "      <th>min</th>\n",
       "      <td>1.000000</td>\n",
       "      <td>95.000000</td>\n",
       "      <td>2.000000</td>\n",
       "      <td>7.000000</td>\n",
       "      <td>0.000000</td>\n",
       "      <td>0.000000</td>\n",
       "      <td>37.000000</td>\n",
       "    </tr>\n",
       "    <tr>\n",
       "      <th>25%</th>\n",
       "      <td>19.250000</td>\n",
       "      <td>166.000000</td>\n",
       "      <td>5.000000</td>\n",
       "      <td>158.000000</td>\n",
       "      <td>3.000000</td>\n",
       "      <td>0.000000</td>\n",
       "      <td>61.000000</td>\n",
       "    </tr>\n",
       "    <tr>\n",
       "      <th>50%</th>\n",
       "      <td>37.500000</td>\n",
       "      <td>196.000000</td>\n",
       "      <td>6.000000</td>\n",
       "      <td>177.000000</td>\n",
       "      <td>5.000000</td>\n",
       "      <td>5.500000</td>\n",
       "      <td>73.000000</td>\n",
       "    </tr>\n",
       "    <tr>\n",
       "      <th>75%</th>\n",
       "      <td>55.750000</td>\n",
       "      <td>213.000000</td>\n",
       "      <td>8.000000</td>\n",
       "      <td>201.250000</td>\n",
       "      <td>8.000000</td>\n",
       "      <td>13.500000</td>\n",
       "      <td>88.500000</td>\n",
       "    </tr>\n",
       "    <tr>\n",
       "      <th>max</th>\n",
       "      <td>74.000000</td>\n",
       "      <td>286.000000</td>\n",
       "      <td>10.000000</td>\n",
       "      <td>247.000000</td>\n",
       "      <td>10.000000</td>\n",
       "      <td>114.000000</td>\n",
       "      <td>141.000000</td>\n",
       "    </tr>\n",
       "  </tbody>\n",
       "</table>\n",
       "</div>"
      ],
      "text/plain": [
       "        match_id  first_ings_score  first_ings_wkts  second_ings_score  \\\n",
       "count  74.000000         73.000000        73.000000          72.000000   \n",
       "mean   37.500000        189.753425         6.452055         174.013889   \n",
       "std    21.505813         37.489547         2.108456          38.805217   \n",
       "min     1.000000         95.000000         2.000000           7.000000   \n",
       "25%    19.250000        166.000000         5.000000         158.000000   \n",
       "50%    37.500000        196.000000         6.000000         177.000000   \n",
       "75%    55.750000        213.000000         8.000000         201.250000   \n",
       "max    74.000000        286.000000        10.000000         247.000000   \n",
       "\n",
       "       second_ings_wkts  balls_left   highscore  \n",
       "count         72.000000   72.000000   71.000000  \n",
       "mean           5.513889   10.819444   74.549296  \n",
       "std            2.882649   17.674942   20.088226  \n",
       "min            0.000000    0.000000   37.000000  \n",
       "25%            3.000000    0.000000   61.000000  \n",
       "50%            5.000000    5.500000   73.000000  \n",
       "75%            8.000000   13.500000   88.500000  \n",
       "max           10.000000  114.000000  141.000000  "
      ]
     },
     "execution_count": 8,
     "metadata": {},
     "output_type": "execute_result"
    }
   ],
   "source": [
    "df.describe()"
   ]
  },
  {
   "cell_type": "code",
   "execution_count": 50,
   "id": "b9594893",
   "metadata": {},
   "outputs": [],
   "source": [
    "numeric_column=['first_ings_score','first_ings_wkts','second_ings_score','second_ings_wkts','balls_left','highscore']"
   ]
  },
  {
   "cell_type": "code",
   "execution_count": 51,
   "id": "82b80099",
   "metadata": {},
   "outputs": [
    {
     "data": {
      "text/plain": [
       "first_ings_score    -0.304426\n",
       "first_ings_wkts     -0.082006\n",
       "second_ings_score   -1.267968\n",
       "second_ings_wkts     0.112289\n",
       "balls_left           3.543602\n",
       "highscore            0.724562\n",
       "dtype: float64"
      ]
     },
     "execution_count": 51,
     "metadata": {},
     "output_type": "execute_result"
    }
   ],
   "source": [
    "df[numeric_column].skew()"
   ]
  },
  {
   "cell_type": "code",
   "execution_count": 34,
   "id": "5e88df26",
   "metadata": {},
   "outputs": [
    {
     "data": {
      "text/plain": [
       "np.float64(-0.30442582834936294)"
      ]
     },
     "metadata": {},
     "output_type": "display_data"
    },
    {
     "data": {
      "image/png": "[encoded data removed]",
      "text/plain": [
       "<Figure size 640x480 with 1 Axes>"
      ]
     },
     "metadata": {},
     "output_type": "display_data"
    }
   ],
   "source": [
    "display(df['first_ings_score'].skew())\n",
    "sns.histplot(x='first_ings_score',data=df,kde=True)\n",
    "plt.show()"
   ]
  },
  {
   "cell_type": "code",
   "execution_count": 61,
   "id": "5c22ab03",
   "metadata": {},
   "outputs": [
    {
     "data": {
      "image/png": "[encoded data removed]",
      "text/plain": [
       "<Figure size 1200x700 with 2 Axes>"
      ]
     },
     "metadata": {},
     "output_type": "display_data"
    }
   ],
   "source": [
    "pt=PowerTransformer(method='yeo-johnson')\n",
    "df['second_ings_score_skew']=pt.fit_transform(df[['second_ings_score']])\n",
    "# display(df['second_ings_score_skew'].skew())\n",
    "plt.figure(figsize=(12,7))\n",
    "plt.subplot(1,2,1)\n",
    "sns.histplot(x='second_ings_score',data=df,kde=True)\n",
    "plt.subplot(1,2,2)\n",
    "sns.histplot(x='second_ings_score_skew',data=df,kde=True)\n",
    "plt.show()"
   ]
  },
  {
   "cell_type": "code",
   "execution_count": 44,
   "id": "7274a3a4",
   "metadata": {},
   "outputs": [
    {
     "data": {
      "text/plain": [
       "np.float64(-0.14933524969500078)"
      ]
     },
     "metadata": {},
     "output_type": "display_data"
    },
    {
     "data": {
      "image/png": "[encoded data removed]",
      "text/plain": [
       "<Figure size 640x480 with 1 Axes>"
      ]
     },
     "metadata": {},
     "output_type": "display_data"
    }
   ],
   "source": [
    "display(df['second_ings_score_skew'].skew())\n",
    "sns.histplot(x='second_ings_score_skew',data=df,kde=True)\n",
    "plt.show()"
   ]
  },
  {
   "cell_type": "code",
   "execution_count": null,
   "id": "82407d76",
   "metadata": {},
   "outputs": [
    {
     "data": {
      "text/plain": [
       "<Axes: xlabel='first_ings_wkts', ylabel='Count'>"
      ]
     },
     "execution_count": 46,
     "metadata": {},
     "output_type": "execute_result"
    },
    {
     "data": {
      "image/png": "[encoded data removed]",
      "text/plain": [
       "<Figure size 640x480 with 1 Axes>"
      ]
     },
     "metadata": {},
     "output_type": "display_data"
    }
   ],
   "source": [
    "sns.histplot(x='first_ings_wkts',data=df,kde=True)\n",
    "plt.show()"
   ]
  },
  {
   "cell_type": "code",
   "execution_count": 59,
   "id": "b18eb294",
   "metadata": {},
   "outputs": [
    {
     "data": {
      "image/png": "[encoded data removed]",
      "text/plain": [
       "<Figure size 1200x700 with 2 Axes>"
      ]
     },
     "metadata": {},
     "output_type": "display_data"
    }
   ],
   "source": [
    "plt.figure(figsize=(12,7))\n",
    "plt.subplot(1,2,1)\n",
    "plt.title('before power transformation')\n",
    "sns.histplot(x='balls_left',data=df,kde=True)\n",
    "df['balls_left_skew']=pt.fit_transform(df[['balls_left']])\n",
    "plt.subplot(1,2,2)\n",
    "plt.title('after power transformation')\n",
    "sns.histplot(x='balls_left_skew',data=df,kde=True)\n",
    "plt.show()"
   ]
  },
  {
   "cell_type": "code",
   "execution_count": 74,
   "id": "b7141f6a",
   "metadata": {},
   "outputs": [
    {
     "data": {
      "image/png": "[encoded data removed]",
      "text/plain": [
       "<Figure size 640x480 with 2 Axes>"
      ]
     },
     "metadata": {},
     "output_type": "display_data"
    }
   ],
   "source": [
    "corr=df[numeric_column].corr()\n",
    "sns.heatmap(corr,annot=True,linewidths=0.2)\n",
    "plt.show()"
   ]
  },
  {
   "cell_type": "code",
   "execution_count": 9,
   "id": "f18cbe30",
   "metadata": {},
   "outputs": [
    {
     "name": "stderr",
     "output_type": "stream",
     "text": [
      "C:\\Users\\DHINESH\\AppData\\Local\\Temp\\ipykernel_7024\\443559025.py:1: FutureWarning: \n",
      "\n",
      "Passing `palette` without assigning `hue` is deprecated and will be removed in v0.14.0. Assign the `x` variable to `hue` and set `legend=False` for the same effect.\n",
      "\n",
      "  sns.barplot(df['match_winner'].value_counts(),  palette=['crimson', 'red',  'darkblue','navy',  'blue','orange', 'skyblue' ,'purple','yellow' ,'pink', ])\n"
     ]
    },
    {
     "data": {
      "image/png": "[encoded data removed]",
      "text/plain": [
       "<Figure size 640x480 with 1 Axes>"
      ]
     },
     "metadata": {},
     "output_type": "display_data"
    }
   ],
   "source": [
    "sns.barplot(df['match_winner'].value_counts(),  palette=['crimson', 'red',  'darkblue','navy',  'blue','orange', 'skyblue' ,'purple','yellow' ,'pink', ]) \n",
    "plt.title('win count per team')\n",
    "plt.show()"
   ]
  },
  {
   "cell_type": "code",
   "execution_count": 10,
   "id": "aa8e01a2",
   "metadata": {},
   "outputs": [
    {
     "name": "stdout",
     "output_type": "stream",
     "text": [
      "top 5 match loosers\n"
     ]
    },
    {
     "data": {
      "text/plain": [
       "match_winner\n",
       "SRH    6\n",
       "LSG    6\n",
       "KKR    5\n",
       "CSK    4\n",
       "RR     4\n",
       "Name: count, dtype: int64"
      ]
     },
     "execution_count": 10,
     "metadata": {},
     "output_type": "execute_result"
    }
   ],
   "source": [
    "print('top 5 match loosers')\n",
    "df['match_winner'].value_counts().tail(5)"
   ]
  },
  {
   "cell_type": "code",
   "execution_count": 11,
   "id": "322f7c48",
   "metadata": {},
   "outputs": [
    {
     "name": "stderr",
     "output_type": "stream",
     "text": [
      "C:\\Users\\DHINESH\\AppData\\Local\\Temp\\ipykernel_7024\\83385860.py:2: FutureWarning: \n",
      "\n",
      "Passing `palette` without assigning `hue` is deprecated and will be removed in v0.14.0. Assign the `x` variable to `hue` and set `legend=False` for the same effect.\n",
      "\n",
      "  sns.barplot(top_scorer.head(7),palette=\"viridis\")\n"
     ]
    },
    {
     "data": {
      "image/png": "[encoded data removed]",
      "text/plain": [
       "<Figure size 640x480 with 1 Axes>"
      ]
     },
     "metadata": {},
     "output_type": "display_data"
    }
   ],
   "source": [
    "top_scorer=df['toss_winner'].value_counts()\n",
    "sns.barplot(top_scorer.head(7),palette=\"viridis\")\n",
    "plt.title('highest toss winners')\n",
    "plt.show()"
   ]
  },
  {
   "cell_type": "code",
   "execution_count": 12,
   "id": "efdc679d",
   "metadata": {},
   "outputs": [],
   "source": [
    "df['man_of_match']=df['player_of_the_match'].value_counts()"
   ]
  },
  {
   "cell_type": "code",
   "execution_count": 13,
   "id": "f8beadd8",
   "metadata": {},
   "outputs": [
    {
     "data": {
      "text/plain": [
       "player_of_the_match\n",
       "Krunal Pandya      3\n",
       "Shreyas Iyer       3\n",
       "Ishan Kishan       2\n",
       "Noor Ahmad         2\n",
       "Prasidh Krishna    2\n",
       "Name: count, dtype: int64"
      ]
     },
     "execution_count": 13,
     "metadata": {},
     "output_type": "execute_result"
    }
   ],
   "source": [
    "df['player_of_the_match'].value_counts().head(5)"
   ]
  },
  {
   "cell_type": "code",
   "execution_count": 14,
   "id": "a3563f0c",
   "metadata": {},
   "outputs": [
    {
     "data": {
      "text/plain": [
       "toss_winner  toss_decision\n",
       "CSK          Bowl             5\n",
       "             Bat              1\n",
       "DC           Bowl             7\n",
       "             Bat              1\n",
       "GT           Bowl             7\n",
       "KKR          Bowl             4\n",
       "             Bat              2\n",
       "LSG          Bowl             4\n",
       "             Bat              1\n",
       "MI           Bowl             6\n",
       "             Bat              1\n",
       "PBKS         Bowl             7\n",
       "             Bat              5\n",
       "RCB          Bowl             7\n",
       "RR           Bowl             7\n",
       "SRH          Bowl             6\n",
       "             Bat              2\n",
       "Name: count, dtype: int64"
      ]
     },
     "execution_count": 14,
     "metadata": {},
     "output_type": "execute_result"
    }
   ],
   "source": [
    "df.groupby('toss_winner')['toss_decision'].value_counts()"
   ]
  },
  {
   "cell_type": "code",
   "execution_count": 15,
   "id": "6f058a13",
   "metadata": {},
   "outputs": [
    {
     "name": "stdout",
     "output_type": "stream",
     "text": [
      "Correlation: -0.2820135415964724\n"
     ]
    }
   ],
   "source": [
    "corr = df['balls_left'].corr(df['highscore'])\n",
    "print(\"Correlation:\", corr)"
   ]
  },
  {
   "cell_type": "code",
   "execution_count": 16,
   "id": "255b85b9",
   "metadata": {},
   "outputs": [
    {
     "data": {
      "image/png": "[encoded data removed]",
      "text/plain": [
       "<Figure size 640x480 with 1 Axes>"
      ]
     },
     "metadata": {},
     "output_type": "display_data"
    }
   ],
   "source": [
    "sns.boxplot(df['highscore'])\n",
    "plt.show()"
   ]
  },
  {
   "cell_type": "code",
   "execution_count": 17,
   "id": "eb452bdf",
   "metadata": {},
   "outputs": [
    {
     "data": {
      "image/png": "[encoded data removed]",
      "text/plain": [
       "<Figure size 640x480 with 1 Axes>"
      ]
     },
     "metadata": {},
     "output_type": "display_data"
    }
   ],
   "source": [
    "count=df.groupby('toss_winner')['match_winner'].apply(lambda x:(x==x.name).sum())\n",
    "plt.pie(count,labels=count.index,autopct='%.1f%%')\n",
    "plt.title('toss winner vs match winner')\n",
    "plt.show()"
   ]
  },
  {
   "cell_type": "code",
   "execution_count": 18,
   "id": "e77bde57",
   "metadata": {},
   "outputs": [
    {
     "name": "stdout",
     "output_type": "stream",
     "text": [
      "stadium and number of matches\n"
     ]
    },
    {
     "data": {
      "text/plain": [
       "venue\n",
       "Narendra Modi Stadium, Ahmedabad                 9\n",
       "Ekana Cricket Stadium, Lucknow                   8\n",
       "Eden Gardens, Kolkata                            7\n",
       "Wankhede Stadium, Mumbai                         7\n",
       "Arun Jaitley Stadium, Delhi                      7\n",
       "Sawai Mansingh Stadium, Jaipur                   7\n",
       "New PCA Cricket Stadium, Mullanpur               6\n",
       "Rajiv Gandhi International Stadium, Hyderabad    6\n",
       "MA Chidambaram Stadium, Chennai                  6\n",
       "M. Chinnaswamy Stadium, Bangalore                6\n",
       "ACA-VDCA Cricket Stadium, Vishakhapatnam         2\n",
       "Barsapara Stadium, Guwahati                      2\n",
       "HPCA Stadium, Dharamshala                        1\n",
       "Name: count, dtype: int64"
      ]
     },
     "execution_count": 18,
     "metadata": {},
     "output_type": "execute_result"
    }
   ],
   "source": [
    "print(\"stadium and number of matches\")\n",
    "df['venue'].value_counts()"
   ]
  },
  {
   "cell_type": "code",
   "execution_count": 19,
   "id": "637aab07",
   "metadata": {},
   "outputs": [
    {
     "data": {
      "text/plain": [
       "stage\n",
       "League      70\n",
       "Playoffs     3\n",
       "Final        1\n",
       "Name: count, dtype: int64"
      ]
     },
     "execution_count": 19,
     "metadata": {},
     "output_type": "execute_result"
    }
   ],
   "source": [
    "df['stage'].value_counts()"
   ]
  },
  {
   "cell_type": "code",
   "execution_count": 20,
   "id": "ed168a74",
   "metadata": {},
   "outputs": [],
   "source": [
    "top_scorer=df.groupby('top_scorer')['player_of_the_match'].apply(lambda x:(x==x.name).sum()).sort_values(ascending=False)\n",
    "top_scorer=top_scorer[top_scorer>0]\n",
    "success=top_scorer.sum()\n",
    "fail=df['player_of_the_match'].count()"
   ]
  },
  {
   "cell_type": "code",
   "execution_count": 21,
   "id": "9dd040d8",
   "metadata": {},
   "outputs": [
    {
     "name": "stdout",
     "output_type": "stream",
     "text": [
      "probability that highest scorer is man of the match:45.07042253521127\n"
     ]
    }
   ],
   "source": [
    "probability=success/fail*100\n",
    "print(f\"probability that highest scorer is man of the match:{probability}\")"
   ]
  },
  {
   "cell_type": "code",
   "execution_count": 22,
   "id": "f1bd4fa3",
   "metadata": {},
   "outputs": [
    {
     "data": {
      "text/plain": [
       "venue                                     toss_winner  match_winner\n",
       "ACA-VDCA Cricket Stadium, Vishakhapatnam  DC           DC              1\n",
       "                                          SRH          DC              1\n",
       "Arun Jaitley Stadium, Delhi               DC           DC              1\n",
       "                                                       KKR             1\n",
       "                                          GT           GT              1\n",
       "                                          RCB          RCB             1\n",
       "                                          RR           DC              1\n",
       "                                                       RR              1\n",
       "                                          SRH          SRH             1\n",
       "Barsapara Stadium, Guwahati               CSK          RR              1\n",
       "Name: count, dtype: int64"
      ]
     },
     "execution_count": 22,
     "metadata": {},
     "output_type": "execute_result"
    }
   ],
   "source": [
    "df.groupby(['venue', 'toss_winner'])['match_winner'].value_counts().head(10)"
   ]
  },
  {
   "cell_type": "code",
   "execution_count": 78,
   "id": "20aa8c93",
   "metadata": {},
   "outputs": [
    {
     "data": {
      "text/plain": [
       "toss_winner  toss_decision  match_winner\n",
       "CSK          Bat            CSK             1\n",
       "             Bowl           CSK             2\n",
       "                            RCB             2\n",
       "                            RR              1\n",
       "DC           Bat            DC              1\n",
       "             Bowl           DC              5\n",
       "                            KKR             1\n",
       "                            MI              1\n",
       "GT           Bowl           GT              5\n",
       "                            LSG             1\n",
       "                            PBKS            1\n",
       "KKR          Bat            CSK             1\n",
       "                            KKR             1\n",
       "             Bowl           KKR             2\n",
       "                            GT              1\n",
       "                            LSG             1\n",
       "LSG          Bat            LSG             1\n",
       "             Bowl           LSG             2\n",
       "                            MI              1\n",
       "                            PBKS            1\n",
       "Name: count, dtype: int64"
      ]
     },
     "execution_count": 78,
     "metadata": {},
     "output_type": "execute_result"
    }
   ],
   "source": [
    "df.groupby(['toss_winner','toss_decision'])['match_winner'].value_counts().head(20)"
   ]
  },
  {
   "cell_type": "code",
   "execution_count": 23,
   "id": "08264f3d",
   "metadata": {},
   "outputs": [
    {
     "data": {
      "image/png": "[encoded data removed]",
      "text/plain": [
       "<Figure size 640x480 with 1 Axes>"
      ]
     },
     "metadata": {},
     "output_type": "display_data"
    }
   ],
   "source": [
    "count_of_matchstatus=df['match_result'].value_counts()\n",
    "plt.pie(count_of_matchstatus,labels=['compeleted','tied'],autopct='%1.1f%%',explode=[0,0.1])\n",
    "plt.title('match status')\n",
    "plt.show()"
   ]
  },
  {
   "cell_type": "code",
   "execution_count": 24,
   "id": "b6629d9f",
   "metadata": {},
   "outputs": [
    {
     "data": {
      "text/plain": [
       "match_winner  balls_left\n",
       "CSK           2.0           1\n",
       "              3.0           1\n",
       "              5.0           1\n",
       "              9.0           1\n",
       "DC            0.0           2\n",
       "              3.0           2\n",
       "              13.0          2\n",
       "              6.0           1\n",
       "              24.0          1\n",
       "GT            0.0           4\n",
       "              4.0           2\n",
       "              6.0           1\n",
       "              13.0          1\n",
       "              20.0          1\n",
       "KKR           0.0           2\n",
       "              15.0          1\n",
       "              20.0          1\n",
       "              59.0          1\n",
       "LSG           0.0           4\n",
       "              3.0           1\n",
       "              23.0          1\n",
       "MI            0.0           2\n",
       "              26.0          2\n",
       "              10.0          1\n",
       "              11.0          1\n",
       "              23.0          1\n",
       "              43.0          1\n",
       "PBKS          0.0           4\n",
       "              2.0           1\n",
       "              6.0           1\n",
       "              7.0           1\n",
       "              9.0           1\n",
       "              11.0          1\n",
       "              22.0          1\n",
       "              29.0          1\n",
       "RCB           0.0           5\n",
       "              8.0           1\n",
       "              9.0           1\n",
       "              15.0          1\n",
       "              22.0          1\n",
       "              60.0          1\n",
       "RR            0.0           2\n",
       "              17.0          1\n",
       "              25.0          1\n",
       "SRH           8.0           2\n",
       "              0.0           1\n",
       "              1.0           1\n",
       "              9.0           1\n",
       "              10.0          1\n",
       "Name: count, dtype: int64"
      ]
     },
     "execution_count": 24,
     "metadata": {},
     "output_type": "execute_result"
    }
   ],
   "source": [
    "df.groupby('match_winner')['balls_left'].value_counts()"
   ]
  },
  {
   "cell_type": "code",
   "execution_count": 25,
   "id": "d6d350a0",
   "metadata": {},
   "outputs": [
    {
     "data": {
      "text/html": [
       "<div>\n",
       "<style scoped>\n",
       "    .dataframe tbody tr th:only-of-type {\n",
       "        vertical-align: middle;\n",
       "    }\n",
       "\n",
       "    .dataframe tbody tr th {\n",
       "        vertical-align: top;\n",
       "    }\n",
       "\n",
       "    .dataframe thead th {\n",
       "        text-align: right;\n",
       "    }\n",
       "</style>\n",
       "<table border=\"1\" class=\"dataframe\">\n",
       "  <thead>\n",
       "    <tr style=\"text-align: right;\">\n",
       "      <th></th>\n",
       "      <th>match_id</th>\n",
       "      <th>date</th>\n",
       "      <th>venue</th>\n",
       "      <th>team1</th>\n",
       "      <th>team2</th>\n",
       "      <th>stage</th>\n",
       "      <th>toss_winner</th>\n",
       "      <th>toss_decision</th>\n",
       "      <th>first_ings_score</th>\n",
       "      <th>first_ings_wkts</th>\n",
       "      <th>...</th>\n",
       "      <th>match_result</th>\n",
       "      <th>match_winner</th>\n",
       "      <th>balls_left</th>\n",
       "      <th>player_of_the_match</th>\n",
       "      <th>top_scorer</th>\n",
       "      <th>highscore</th>\n",
       "      <th>best_bowling</th>\n",
       "      <th>best_bowling_figure</th>\n",
       "      <th>man_of_match</th>\n",
       "      <th>success</th>\n",
       "    </tr>\n",
       "  </thead>\n",
       "  <tbody>\n",
       "    <tr>\n",
       "      <th>0</th>\n",
       "      <td>1</td>\n",
       "      <td>March 22,2025</td>\n",
       "      <td>Eden Gardens, Kolkata</td>\n",
       "      <td>KKR</td>\n",
       "      <td>RCB</td>\n",
       "      <td>League</td>\n",
       "      <td>RCB</td>\n",
       "      <td>Bowl</td>\n",
       "      <td>174.0</td>\n",
       "      <td>8.0</td>\n",
       "      <td>...</td>\n",
       "      <td>completed</td>\n",
       "      <td>RCB</td>\n",
       "      <td>22.0</td>\n",
       "      <td>Krunal Pandya</td>\n",
       "      <td>Virat Kohli</td>\n",
       "      <td>59.0</td>\n",
       "      <td>Krunal Pandya</td>\n",
       "      <td>3--29</td>\n",
       "      <td>NaN</td>\n",
       "      <td>True</td>\n",
       "    </tr>\n",
       "    <tr>\n",
       "      <th>1</th>\n",
       "      <td>2</td>\n",
       "      <td>March 23,2025</td>\n",
       "      <td>Rajiv Gandhi International Stadium, Hyderabad</td>\n",
       "      <td>SRH</td>\n",
       "      <td>RR</td>\n",
       "      <td>League</td>\n",
       "      <td>RR</td>\n",
       "      <td>Bowl</td>\n",
       "      <td>286.0</td>\n",
       "      <td>6.0</td>\n",
       "      <td>...</td>\n",
       "      <td>completed</td>\n",
       "      <td>SRH</td>\n",
       "      <td>0.0</td>\n",
       "      <td>Ishan Kishan</td>\n",
       "      <td>Ishan Kishan</td>\n",
       "      <td>106.0</td>\n",
       "      <td>Tushar Deshpande</td>\n",
       "      <td>3--44</td>\n",
       "      <td>NaN</td>\n",
       "      <td>False</td>\n",
       "    </tr>\n",
       "    <tr>\n",
       "      <th>2</th>\n",
       "      <td>3</td>\n",
       "      <td>March 23,2025</td>\n",
       "      <td>MA Chidambaram Stadium, Chennai</td>\n",
       "      <td>CSK</td>\n",
       "      <td>MI</td>\n",
       "      <td>League</td>\n",
       "      <td>CSK</td>\n",
       "      <td>Bowl</td>\n",
       "      <td>155.0</td>\n",
       "      <td>9.0</td>\n",
       "      <td>...</td>\n",
       "      <td>completed</td>\n",
       "      <td>CSK</td>\n",
       "      <td>5.0</td>\n",
       "      <td>Noor Ahmad</td>\n",
       "      <td>Rachin Ravindra</td>\n",
       "      <td>65.0</td>\n",
       "      <td>Noor Ahmad</td>\n",
       "      <td>4--18</td>\n",
       "      <td>NaN</td>\n",
       "      <td>True</td>\n",
       "    </tr>\n",
       "    <tr>\n",
       "      <th>3</th>\n",
       "      <td>4</td>\n",
       "      <td>March 24,2025</td>\n",
       "      <td>ACA-VDCA Cricket Stadium, Vishakhapatnam</td>\n",
       "      <td>DC</td>\n",
       "      <td>LSG</td>\n",
       "      <td>League</td>\n",
       "      <td>DC</td>\n",
       "      <td>Bowl</td>\n",
       "      <td>209.0</td>\n",
       "      <td>8.0</td>\n",
       "      <td>...</td>\n",
       "      <td>completed</td>\n",
       "      <td>DC</td>\n",
       "      <td>3.0</td>\n",
       "      <td>Ashutosh Sharma</td>\n",
       "      <td>Nicholas Pooran</td>\n",
       "      <td>75.0</td>\n",
       "      <td>Mitchell Starc</td>\n",
       "      <td>3--42</td>\n",
       "      <td>NaN</td>\n",
       "      <td>True</td>\n",
       "    </tr>\n",
       "    <tr>\n",
       "      <th>4</th>\n",
       "      <td>5</td>\n",
       "      <td>March 25,2025</td>\n",
       "      <td>Narendra Modi Stadium, Ahmedabad</td>\n",
       "      <td>GT</td>\n",
       "      <td>PBKS</td>\n",
       "      <td>League</td>\n",
       "      <td>GT</td>\n",
       "      <td>Bowl</td>\n",
       "      <td>243.0</td>\n",
       "      <td>5.0</td>\n",
       "      <td>...</td>\n",
       "      <td>completed</td>\n",
       "      <td>PBKS</td>\n",
       "      <td>0.0</td>\n",
       "      <td>Shreyas Iyer</td>\n",
       "      <td>Shreyas Iyer</td>\n",
       "      <td>97.0</td>\n",
       "      <td>Sai Kishore</td>\n",
       "      <td>3--30</td>\n",
       "      <td>NaN</td>\n",
       "      <td>False</td>\n",
       "    </tr>\n",
       "  </tbody>\n",
       "</table>\n",
       "<p>5 rows × 22 columns</p>\n",
       "</div>"
      ],
      "text/plain": [
       "   match_id           date                                          venue  \\\n",
       "0         1  March 22,2025                          Eden Gardens, Kolkata   \n",
       "1         2  March 23,2025  Rajiv Gandhi International Stadium, Hyderabad   \n",
       "2         3  March 23,2025                MA Chidambaram Stadium, Chennai   \n",
       "3         4  March 24,2025       ACA-VDCA Cricket Stadium, Vishakhapatnam   \n",
       "4         5  March 25,2025               Narendra Modi Stadium, Ahmedabad   \n",
       "\n",
       "  team1 team2   stage toss_winner toss_decision  first_ings_score  \\\n",
       "0   KKR   RCB  League         RCB          Bowl             174.0   \n",
       "1   SRH    RR  League          RR          Bowl             286.0   \n",
       "2   CSK    MI  League         CSK          Bowl             155.0   \n",
       "3    DC   LSG  League          DC          Bowl             209.0   \n",
       "4    GT  PBKS  League          GT          Bowl             243.0   \n",
       "\n",
       "   first_ings_wkts  ...  match_result  match_winner balls_left  \\\n",
       "0              8.0  ...     completed           RCB       22.0   \n",
       "1              6.0  ...     completed           SRH        0.0   \n",
       "2              9.0  ...     completed           CSK        5.0   \n",
       "3              8.0  ...     completed            DC        3.0   \n",
       "4              5.0  ...     completed          PBKS        0.0   \n",
       "\n",
       "  player_of_the_match       top_scorer highscore      best_bowling  \\\n",
       "0       Krunal Pandya      Virat Kohli      59.0     Krunal Pandya   \n",
       "1        Ishan Kishan     Ishan Kishan     106.0  Tushar Deshpande   \n",
       "2          Noor Ahmad  Rachin Ravindra      65.0        Noor Ahmad   \n",
       "3     Ashutosh Sharma  Nicholas Pooran      75.0    Mitchell Starc   \n",
       "4        Shreyas Iyer     Shreyas Iyer      97.0       Sai Kishore   \n",
       "\n",
       "   best_bowling_figure man_of_match success  \n",
       "0                3--29          NaN    True  \n",
       "1                3--44          NaN   False  \n",
       "2                4--18          NaN    True  \n",
       "3                3--42          NaN    True  \n",
       "4                3--30          NaN   False  \n",
       "\n",
       "[5 rows x 22 columns]"
      ]
     },
     "execution_count": 25,
     "metadata": {},
     "output_type": "execute_result"
    }
   ],
   "source": [
    "df['success']=df['second_ings_score']>df['first_ings_score']\n",
    "df.head()"
   ]
  },
  {
   "cell_type": "code",
   "execution_count": 26,
   "id": "1368a1fc",
   "metadata": {},
   "outputs": [],
   "source": [
    "ecoder=LabelEncoder()\n",
    "df['success']=ecoder.fit_transform(df['success'])"
   ]
  },
  {
   "cell_type": "code",
   "execution_count": 27,
   "id": "9676bdcd",
   "metadata": {},
   "outputs": [
    {
     "data": {
      "text/plain": [
       "array(['League', 'Playoffs', 'Final'], dtype=object)"
      ]
     },
     "execution_count": 27,
     "metadata": {},
     "output_type": "execute_result"
    }
   ],
   "source": [
    "df['stage'].unique()"
   ]
  },
  {
   "cell_type": "code",
   "execution_count": 28,
   "id": "d0faf0ab",
   "metadata": {},
   "outputs": [
    {
     "data": {
      "text/plain": [
       "stage     match_winner\n",
       "Final     RCB              1\n",
       "League    PBKS            10\n",
       "          GT               9\n",
       "          DC               8\n",
       "          RCB              8\n",
       "          MI               7\n",
       "          LSG              6\n",
       "          SRH              6\n",
       "          KKR              5\n",
       "          CSK              4\n",
       "          RR               4\n",
       "Playoffs  MI               1\n",
       "          PBKS             1\n",
       "          RCB              1\n",
       "Name: count, dtype: int64"
      ]
     },
     "execution_count": 28,
     "metadata": {},
     "output_type": "execute_result"
    }
   ],
   "source": [
    "df.groupby('stage')['match_winner'].value_counts()"
   ]
  },
  {
   "cell_type": "code",
   "execution_count": 29,
   "id": "6e52f495",
   "metadata": {},
   "outputs": [
    {
     "data": {
      "text/plain": [
       "0     1\n",
       "1     0\n",
       "2     1\n",
       "3     1\n",
       "4     0\n",
       "     ..\n",
       "69    1\n",
       "70    1\n",
       "71    0\n",
       "72    1\n",
       "73    0\n",
       "Name: success, Length: 74, dtype: int64"
      ]
     },
     "execution_count": 29,
     "metadata": {},
     "output_type": "execute_result"
    }
   ],
   "source": [
    "df['success']"
   ]
  },
  {
   "cell_type": "code",
   "execution_count": 30,
   "id": "15ea3aa7",
   "metadata": {},
   "outputs": [
    {
     "data": {
      "text/plain": [
       "success  match_winner\n",
       "0        GT              5\n",
       "         PBKS            5\n",
       "         RCB             5\n",
       "         LSG             4\n",
       "         MI              4\n",
       "         DC              3\n",
       "         KKR             3\n",
       "         SRH             3\n",
       "         RR              2\n",
       "         CSK             1\n",
       "1        PBKS            6\n",
       "         DC              5\n",
       "         RCB             5\n",
       "         GT              4\n",
       "         MI              4\n",
       "         CSK             3\n",
       "         SRH             3\n",
       "         KKR             2\n",
       "         LSG             2\n",
       "         RR              2\n",
       "Name: count, dtype: int64"
      ]
     },
     "execution_count": 30,
     "metadata": {},
     "output_type": "execute_result"
    }
   ],
   "source": [
    "df.groupby('success')['match_winner'].value_counts()"
   ]
  },
  {
   "cell_type": "code",
   "execution_count": 31,
   "id": "47346a5e",
   "metadata": {},
   "outputs": [
    {
     "data": {
      "text/html": [
       "<div>\n",
       "<style scoped>\n",
       "    .dataframe tbody tr th:only-of-type {\n",
       "        vertical-align: middle;\n",
       "    }\n",
       "\n",
       "    .dataframe tbody tr th {\n",
       "        vertical-align: top;\n",
       "    }\n",
       "\n",
       "    .dataframe thead th {\n",
       "        text-align: right;\n",
       "    }\n",
       "</style>\n",
       "<table border=\"1\" class=\"dataframe\">\n",
       "  <thead>\n",
       "    <tr style=\"text-align: right;\">\n",
       "      <th></th>\n",
       "      <th>match_id</th>\n",
       "      <th>date</th>\n",
       "      <th>venue</th>\n",
       "      <th>team1</th>\n",
       "      <th>team2</th>\n",
       "      <th>toss_winner</th>\n",
       "      <th>toss_decision</th>\n",
       "      <th>first_ings_score</th>\n",
       "      <th>first_ings_wkts</th>\n",
       "      <th>second_ings_score</th>\n",
       "      <th>...</th>\n",
       "      <th>balls_left</th>\n",
       "      <th>player_of_the_match</th>\n",
       "      <th>top_scorer</th>\n",
       "      <th>highscore</th>\n",
       "      <th>best_bowling</th>\n",
       "      <th>best_bowling_figure</th>\n",
       "      <th>man_of_match</th>\n",
       "      <th>success</th>\n",
       "      <th>stage_League</th>\n",
       "      <th>stage_Playoffs</th>\n",
       "    </tr>\n",
       "  </thead>\n",
       "  <tbody>\n",
       "    <tr>\n",
       "      <th>0</th>\n",
       "      <td>1</td>\n",
       "      <td>March 22,2025</td>\n",
       "      <td>Eden Gardens, Kolkata</td>\n",
       "      <td>KKR</td>\n",
       "      <td>RCB</td>\n",
       "      <td>RCB</td>\n",
       "      <td>Bowl</td>\n",
       "      <td>174.0</td>\n",
       "      <td>8.0</td>\n",
       "      <td>177.0</td>\n",
       "      <td>...</td>\n",
       "      <td>22.0</td>\n",
       "      <td>Krunal Pandya</td>\n",
       "      <td>Virat Kohli</td>\n",
       "      <td>59.0</td>\n",
       "      <td>Krunal Pandya</td>\n",
       "      <td>3--29</td>\n",
       "      <td>NaN</td>\n",
       "      <td>1</td>\n",
       "      <td>True</td>\n",
       "      <td>False</td>\n",
       "    </tr>\n",
       "    <tr>\n",
       "      <th>1</th>\n",
       "      <td>2</td>\n",
       "      <td>March 23,2025</td>\n",
       "      <td>Rajiv Gandhi International Stadium, Hyderabad</td>\n",
       "      <td>SRH</td>\n",
       "      <td>RR</td>\n",
       "      <td>RR</td>\n",
       "      <td>Bowl</td>\n",
       "      <td>286.0</td>\n",
       "      <td>6.0</td>\n",
       "      <td>242.0</td>\n",
       "      <td>...</td>\n",
       "      <td>0.0</td>\n",
       "      <td>Ishan Kishan</td>\n",
       "      <td>Ishan Kishan</td>\n",
       "      <td>106.0</td>\n",
       "      <td>Tushar Deshpande</td>\n",
       "      <td>3--44</td>\n",
       "      <td>NaN</td>\n",
       "      <td>0</td>\n",
       "      <td>True</td>\n",
       "      <td>False</td>\n",
       "    </tr>\n",
       "    <tr>\n",
       "      <th>2</th>\n",
       "      <td>3</td>\n",
       "      <td>March 23,2025</td>\n",
       "      <td>MA Chidambaram Stadium, Chennai</td>\n",
       "      <td>CSK</td>\n",
       "      <td>MI</td>\n",
       "      <td>CSK</td>\n",
       "      <td>Bowl</td>\n",
       "      <td>155.0</td>\n",
       "      <td>9.0</td>\n",
       "      <td>158.0</td>\n",
       "      <td>...</td>\n",
       "      <td>5.0</td>\n",
       "      <td>Noor Ahmad</td>\n",
       "      <td>Rachin Ravindra</td>\n",
       "      <td>65.0</td>\n",
       "      <td>Noor Ahmad</td>\n",
       "      <td>4--18</td>\n",
       "      <td>NaN</td>\n",
       "      <td>1</td>\n",
       "      <td>True</td>\n",
       "      <td>False</td>\n",
       "    </tr>\n",
       "    <tr>\n",
       "      <th>3</th>\n",
       "      <td>4</td>\n",
       "      <td>March 24,2025</td>\n",
       "      <td>ACA-VDCA Cricket Stadium, Vishakhapatnam</td>\n",
       "      <td>DC</td>\n",
       "      <td>LSG</td>\n",
       "      <td>DC</td>\n",
       "      <td>Bowl</td>\n",
       "      <td>209.0</td>\n",
       "      <td>8.0</td>\n",
       "      <td>211.0</td>\n",
       "      <td>...</td>\n",
       "      <td>3.0</td>\n",
       "      <td>Ashutosh Sharma</td>\n",
       "      <td>Nicholas Pooran</td>\n",
       "      <td>75.0</td>\n",
       "      <td>Mitchell Starc</td>\n",
       "      <td>3--42</td>\n",
       "      <td>NaN</td>\n",
       "      <td>1</td>\n",
       "      <td>True</td>\n",
       "      <td>False</td>\n",
       "    </tr>\n",
       "    <tr>\n",
       "      <th>4</th>\n",
       "      <td>5</td>\n",
       "      <td>March 25,2025</td>\n",
       "      <td>Narendra Modi Stadium, Ahmedabad</td>\n",
       "      <td>GT</td>\n",
       "      <td>PBKS</td>\n",
       "      <td>GT</td>\n",
       "      <td>Bowl</td>\n",
       "      <td>243.0</td>\n",
       "      <td>5.0</td>\n",
       "      <td>232.0</td>\n",
       "      <td>...</td>\n",
       "      <td>0.0</td>\n",
       "      <td>Shreyas Iyer</td>\n",
       "      <td>Shreyas Iyer</td>\n",
       "      <td>97.0</td>\n",
       "      <td>Sai Kishore</td>\n",
       "      <td>3--30</td>\n",
       "      <td>NaN</td>\n",
       "      <td>0</td>\n",
       "      <td>True</td>\n",
       "      <td>False</td>\n",
       "    </tr>\n",
       "    <tr>\n",
       "      <th>...</th>\n",
       "      <td>...</td>\n",
       "      <td>...</td>\n",
       "      <td>...</td>\n",
       "      <td>...</td>\n",
       "      <td>...</td>\n",
       "      <td>...</td>\n",
       "      <td>...</td>\n",
       "      <td>...</td>\n",
       "      <td>...</td>\n",
       "      <td>...</td>\n",
       "      <td>...</td>\n",
       "      <td>...</td>\n",
       "      <td>...</td>\n",
       "      <td>...</td>\n",
       "      <td>...</td>\n",
       "      <td>...</td>\n",
       "      <td>...</td>\n",
       "      <td>...</td>\n",
       "      <td>...</td>\n",
       "      <td>...</td>\n",
       "      <td>...</td>\n",
       "    </tr>\n",
       "    <tr>\n",
       "      <th>69</th>\n",
       "      <td>70</td>\n",
       "      <td>May 27,2025</td>\n",
       "      <td>Ekana Cricket Stadium, Lucknow</td>\n",
       "      <td>LSG</td>\n",
       "      <td>RCB</td>\n",
       "      <td>RCB</td>\n",
       "      <td>Bowl</td>\n",
       "      <td>227.0</td>\n",
       "      <td>3.0</td>\n",
       "      <td>230.0</td>\n",
       "      <td>...</td>\n",
       "      <td>8.0</td>\n",
       "      <td>Jitesh Sharma</td>\n",
       "      <td>Rishabh Pant</td>\n",
       "      <td>118.0</td>\n",
       "      <td>Will O'Rourke</td>\n",
       "      <td>2--74</td>\n",
       "      <td>NaN</td>\n",
       "      <td>1</td>\n",
       "      <td>True</td>\n",
       "      <td>False</td>\n",
       "    </tr>\n",
       "    <tr>\n",
       "      <th>70</th>\n",
       "      <td>71</td>\n",
       "      <td>May 29,2025</td>\n",
       "      <td>New PCA Cricket Stadium, Mullanpur</td>\n",
       "      <td>PBKS</td>\n",
       "      <td>RCB</td>\n",
       "      <td>RCB</td>\n",
       "      <td>Bowl</td>\n",
       "      <td>101.0</td>\n",
       "      <td>10.0</td>\n",
       "      <td>106.0</td>\n",
       "      <td>...</td>\n",
       "      <td>60.0</td>\n",
       "      <td>Suyash Sharma</td>\n",
       "      <td>Phil Salt</td>\n",
       "      <td>56.0</td>\n",
       "      <td>Suyash Sharma</td>\n",
       "      <td>3--17</td>\n",
       "      <td>NaN</td>\n",
       "      <td>1</td>\n",
       "      <td>False</td>\n",
       "      <td>True</td>\n",
       "    </tr>\n",
       "    <tr>\n",
       "      <th>71</th>\n",
       "      <td>72</td>\n",
       "      <td>May 30,2025</td>\n",
       "      <td>New PCA Cricket Stadium, Mullanpur</td>\n",
       "      <td>GT</td>\n",
       "      <td>MI</td>\n",
       "      <td>MI</td>\n",
       "      <td>Bat</td>\n",
       "      <td>228.0</td>\n",
       "      <td>5.0</td>\n",
       "      <td>208.0</td>\n",
       "      <td>...</td>\n",
       "      <td>0.0</td>\n",
       "      <td>Rohit Sharma</td>\n",
       "      <td>Rohit Sharma</td>\n",
       "      <td>81.0</td>\n",
       "      <td>Sai Kishore</td>\n",
       "      <td>2--42</td>\n",
       "      <td>NaN</td>\n",
       "      <td>0</td>\n",
       "      <td>False</td>\n",
       "      <td>True</td>\n",
       "    </tr>\n",
       "    <tr>\n",
       "      <th>72</th>\n",
       "      <td>73</td>\n",
       "      <td>June 1,2025</td>\n",
       "      <td>Narendra Modi Stadium, Ahmedabad</td>\n",
       "      <td>PBKS</td>\n",
       "      <td>MI</td>\n",
       "      <td>PBKS</td>\n",
       "      <td>Bowl</td>\n",
       "      <td>203.0</td>\n",
       "      <td>6.0</td>\n",
       "      <td>207.0</td>\n",
       "      <td>...</td>\n",
       "      <td>6.0</td>\n",
       "      <td>Shreyas Iyer</td>\n",
       "      <td>Shreyas Iyer</td>\n",
       "      <td>87.0</td>\n",
       "      <td>Azmatullah Omarzai</td>\n",
       "      <td>2--43</td>\n",
       "      <td>NaN</td>\n",
       "      <td>1</td>\n",
       "      <td>False</td>\n",
       "      <td>True</td>\n",
       "    </tr>\n",
       "    <tr>\n",
       "      <th>73</th>\n",
       "      <td>74</td>\n",
       "      <td>June 3,2025</td>\n",
       "      <td>Narendra Modi Stadium, Ahmedabad</td>\n",
       "      <td>RCB</td>\n",
       "      <td>PBKS</td>\n",
       "      <td>PBKS</td>\n",
       "      <td>Bowl</td>\n",
       "      <td>190.0</td>\n",
       "      <td>9.0</td>\n",
       "      <td>184.0</td>\n",
       "      <td>...</td>\n",
       "      <td>0.0</td>\n",
       "      <td>Krunal Pandya</td>\n",
       "      <td>Shashank Singh</td>\n",
       "      <td>61.0</td>\n",
       "      <td>Arshdeep Singh</td>\n",
       "      <td>3--40</td>\n",
       "      <td>NaN</td>\n",
       "      <td>0</td>\n",
       "      <td>False</td>\n",
       "      <td>False</td>\n",
       "    </tr>\n",
       "  </tbody>\n",
       "</table>\n",
       "<p>74 rows × 23 columns</p>\n",
       "</div>"
      ],
      "text/plain": [
       "    match_id           date                                          venue  \\\n",
       "0          1  March 22,2025                          Eden Gardens, Kolkata   \n",
       "1          2  March 23,2025  Rajiv Gandhi International Stadium, Hyderabad   \n",
       "2          3  March 23,2025                MA Chidambaram Stadium, Chennai   \n",
       "3          4  March 24,2025       ACA-VDCA Cricket Stadium, Vishakhapatnam   \n",
       "4          5  March 25,2025               Narendra Modi Stadium, Ahmedabad   \n",
       "..       ...            ...                                            ...   \n",
       "69        70    May 27,2025                 Ekana Cricket Stadium, Lucknow   \n",
       "70        71    May 29,2025             New PCA Cricket Stadium, Mullanpur   \n",
       "71        72    May 30,2025             New PCA Cricket Stadium, Mullanpur   \n",
       "72        73    June 1,2025               Narendra Modi Stadium, Ahmedabad   \n",
       "73        74    June 3,2025               Narendra Modi Stadium, Ahmedabad   \n",
       "\n",
       "   team1 team2 toss_winner toss_decision  first_ings_score  first_ings_wkts  \\\n",
       "0    KKR   RCB         RCB          Bowl             174.0              8.0   \n",
       "1    SRH    RR          RR          Bowl             286.0              6.0   \n",
       "2    CSK    MI         CSK          Bowl             155.0              9.0   \n",
       "3     DC   LSG          DC          Bowl             209.0              8.0   \n",
       "4     GT  PBKS          GT          Bowl             243.0              5.0   \n",
       "..   ...   ...         ...           ...               ...              ...   \n",
       "69   LSG   RCB         RCB          Bowl             227.0              3.0   \n",
       "70  PBKS   RCB         RCB          Bowl             101.0             10.0   \n",
       "71    GT    MI          MI           Bat             228.0              5.0   \n",
       "72  PBKS    MI        PBKS          Bowl             203.0              6.0   \n",
       "73   RCB  PBKS        PBKS          Bowl             190.0              9.0   \n",
       "\n",
       "    second_ings_score  ...  balls_left player_of_the_match       top_scorer  \\\n",
       "0               177.0  ...        22.0       Krunal Pandya      Virat Kohli   \n",
       "1               242.0  ...         0.0        Ishan Kishan     Ishan Kishan   \n",
       "2               158.0  ...         5.0          Noor Ahmad  Rachin Ravindra   \n",
       "3               211.0  ...         3.0     Ashutosh Sharma  Nicholas Pooran   \n",
       "4               232.0  ...         0.0        Shreyas Iyer     Shreyas Iyer   \n",
       "..                ...  ...         ...                 ...              ...   \n",
       "69              230.0  ...         8.0       Jitesh Sharma     Rishabh Pant   \n",
       "70              106.0  ...        60.0       Suyash Sharma        Phil Salt   \n",
       "71              208.0  ...         0.0        Rohit Sharma     Rohit Sharma   \n",
       "72              207.0  ...         6.0        Shreyas Iyer     Shreyas Iyer   \n",
       "73              184.0  ...         0.0       Krunal Pandya   Shashank Singh   \n",
       "\n",
       "    highscore        best_bowling best_bowling_figure  man_of_match success  \\\n",
       "0        59.0       Krunal Pandya               3--29           NaN       1   \n",
       "1       106.0    Tushar Deshpande               3--44           NaN       0   \n",
       "2        65.0          Noor Ahmad               4--18           NaN       1   \n",
       "3        75.0      Mitchell Starc               3--42           NaN       1   \n",
       "4        97.0         Sai Kishore               3--30           NaN       0   \n",
       "..        ...                 ...                 ...           ...     ...   \n",
       "69      118.0       Will O'Rourke               2--74           NaN       1   \n",
       "70       56.0       Suyash Sharma               3--17           NaN       1   \n",
       "71       81.0         Sai Kishore               2--42           NaN       0   \n",
       "72       87.0  Azmatullah Omarzai               2--43           NaN       1   \n",
       "73       61.0      Arshdeep Singh               3--40           NaN       0   \n",
       "\n",
       "   stage_League  stage_Playoffs  \n",
       "0          True           False  \n",
       "1          True           False  \n",
       "2          True           False  \n",
       "3          True           False  \n",
       "4          True           False  \n",
       "..          ...             ...  \n",
       "69         True           False  \n",
       "70        False            True  \n",
       "71        False            True  \n",
       "72        False            True  \n",
       "73        False           False  \n",
       "\n",
       "[74 rows x 23 columns]"
      ]
     },
     "metadata": {},
     "output_type": "display_data"
    }
   ],
   "source": [
    "df_encoded = pd.get_dummies(df, columns=[\"stage\"], drop_first=True)\n",
    "display(df_encoded)"
   ]
  },
  {
   "cell_type": "code",
   "execution_count": null,
   "id": "a1d29f86",
   "metadata": {},
   "outputs": [],
   "source": []
  }
 ],
 "metadata": {
  "kernelspec": {
   "display_name": "Python 3",
   "language": "python",
   "name": "python3"
  },
  "language_info": {
   "codemirror_mode": {
    "name": "ipython",
    "version": 3
   },
   "file_extension": ".py",
   "mimetype": "text/x-python",
   "name": "python",
   "nbconvert_exporter": "python",
   "pygments_lexer": "ipython3",
   "version": "3.10.18"
  }
 },
 "nbformat": 4,
 "nbformat_minor": 5
}
